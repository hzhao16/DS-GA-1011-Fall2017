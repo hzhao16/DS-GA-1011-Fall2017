{
 "cells": [
  {
   "cell_type": "markdown",
   "metadata": {
    "deletable": true,
    "editable": true
   },
   "source": [
    "# DS-GA 1011 Fall 2017 Lab 2\n",
    "# PyTorch Tutorial II: Feed Forward Neural Network on MNIST"
   ]
  },
  {
   "cell_type": "markdown",
   "metadata": {
    "deletable": true,
    "editable": true
   },
   "source": [
    "## Part I: Sample Logistic Regression Model"
   ]
  },
  {
   "cell_type": "code",
   "execution_count": 1,
   "metadata": {
    "collapsed": true,
    "deletable": true,
    "editable": true
   },
   "outputs": [],
   "source": [
    "import torch\n",
    "import torch.nn as nn\n",
    "import torchvision.datasets as dsets\n",
    "import torchvision.transforms as transforms\n",
    "from torch.autograd import Variable\n"
   ]
  },
  {
   "cell_type": "code",
   "execution_count": 2,
   "metadata": {
    "collapsed": true,
    "deletable": true,
    "editable": true
   },
   "outputs": [],
   "source": [
    "# Hyper Parameters \n",
    "input_size = 784\n",
    "num_classes = 10\n",
    "num_epochs = 5\n",
    "batch_size = 100\n",
    "learning_rate = 0.001\n"
   ]
  },
  {
   "cell_type": "markdown",
   "metadata": {
    "deletable": true,
    "editable": true
   },
   "source": [
    "### Load Data"
   ]
  },
  {
   "cell_type": "code",
   "execution_count": 3,
   "metadata": {
    "collapsed": false,
    "deletable": true,
    "editable": true
   },
   "outputs": [
    {
     "name": "stdout",
     "output_type": "stream",
     "text": [
      "Files already downloaded\n"
     ]
    }
   ],
   "source": [
    "# MNIST Dataset (Images and Labels)\n",
    "train_dataset = dsets.MNIST(root='./data', \n",
    "                            train=True, \n",
    "                            transform=transforms.ToTensor(),\n",
    "                            download=True)\n",
    "\n",
    "test_dataset = dsets.MNIST(root='./data', \n",
    "                           train=False, \n",
    "                           transform=transforms.ToTensor())\n",
    "\n",
    "# Dataset Loader (Input Pipline)\n",
    "train_loader = torch.utils.data.DataLoader(dataset=train_dataset, \n",
    "                                           batch_size=batch_size, \n",
    "                                           shuffle=True)\n",
    "\n",
    "test_loader = torch.utils.data.DataLoader(dataset=test_dataset, \n",
    "                                          batch_size=batch_size, \n",
    "                                          shuffle=False)"
   ]
  },
  {
   "cell_type": "markdown",
   "metadata": {
    "deletable": true,
    "editable": true
   },
   "source": [
    "### Define Model"
   ]
  },
  {
   "cell_type": "code",
   "execution_count": 4,
   "metadata": {
    "collapsed": true,
    "deletable": true,
    "editable": true
   },
   "outputs": [],
   "source": [
    "# Model\n",
    "class LogisticRegression(nn.Module):\n",
    "    def __init__(self, input_size, num_classes):\n",
    "        super(LogisticRegression, self).__init__()\n",
    "        self.linear = nn.Linear(input_size, num_classes)\n",
    "    \n",
    "    def forward(self, x):\n",
    "        out = self.linear(x)\n",
    "        return out\n",
    "\n",
    "model = LogisticRegression(input_size, num_classes)\n"
   ]
  },
  {
   "cell_type": "markdown",
   "metadata": {
    "deletable": true,
    "editable": true
   },
   "source": [
    "### Define a Loss function and optimizer"
   ]
  },
  {
   "cell_type": "code",
   "execution_count": 5,
   "metadata": {
    "collapsed": true,
    "deletable": true,
    "editable": true
   },
   "outputs": [],
   "source": [
    "# Loss and Optimizer\n",
    "# Set parameters to be updated.\n",
    "loss_function = nn.CrossEntropyLoss()  \n",
    "optimizer = torch.optim.SGD(model.parameters(), lr=learning_rate)  \n"
   ]
  },
  {
   "cell_type": "markdown",
   "metadata": {
    "deletable": true,
    "editable": true
   },
   "source": [
    "### Train Model"
   ]
  },
  {
   "cell_type": "code",
   "execution_count": 6,
   "metadata": {
    "collapsed": false,
    "deletable": true,
    "editable": true
   },
   "outputs": [
    {
     "name": "stdout",
     "output_type": "stream",
     "text": [
      "Epoch: [1/5], Step: [100/600], Loss: 2.1828\n",
      "Epoch: [1/5], Step: [200/600], Loss: 2.0979\n",
      "Epoch: [1/5], Step: [300/600], Loss: 1.9725\n",
      "Epoch: [1/5], Step: [400/600], Loss: 1.8819\n",
      "Epoch: [1/5], Step: [500/600], Loss: 1.8330\n",
      "Epoch: [1/5], Step: [600/600], Loss: 1.7662\n",
      "Epoch: [2/5], Step: [100/600], Loss: 1.7254\n",
      "Epoch: [2/5], Step: [200/600], Loss: 1.7546\n",
      "Epoch: [2/5], Step: [300/600], Loss: 1.6188\n",
      "Epoch: [2/5], Step: [400/600], Loss: 1.6020\n",
      "Epoch: [2/5], Step: [500/600], Loss: 1.4876\n",
      "Epoch: [2/5], Step: [600/600], Loss: 1.4359\n",
      "Epoch: [3/5], Step: [100/600], Loss: 1.3921\n",
      "Epoch: [3/5], Step: [200/600], Loss: 1.4166\n",
      "Epoch: [3/5], Step: [300/600], Loss: 1.2957\n",
      "Epoch: [3/5], Step: [400/600], Loss: 1.4160\n",
      "Epoch: [3/5], Step: [500/600], Loss: 1.3671\n",
      "Epoch: [3/5], Step: [600/600], Loss: 1.1772\n",
      "Epoch: [4/5], Step: [100/600], Loss: 1.2303\n",
      "Epoch: [4/5], Step: [200/600], Loss: 1.1467\n",
      "Epoch: [4/5], Step: [300/600], Loss: 1.0246\n",
      "Epoch: [4/5], Step: [400/600], Loss: 1.2146\n",
      "Epoch: [4/5], Step: [500/600], Loss: 1.0951\n",
      "Epoch: [4/5], Step: [600/600], Loss: 1.1659\n",
      "Epoch: [5/5], Step: [100/600], Loss: 1.0894\n",
      "Epoch: [5/5], Step: [200/600], Loss: 0.9812\n",
      "Epoch: [5/5], Step: [300/600], Loss: 1.0339\n",
      "Epoch: [5/5], Step: [400/600], Loss: 1.0503\n",
      "Epoch: [5/5], Step: [500/600], Loss: 0.9759\n",
      "Epoch: [5/5], Step: [600/600], Loss: 0.9998\n"
     ]
    }
   ],
   "source": [
    "# Training the Model\n",
    "for epoch in range(num_epochs):\n",
    "    for i, (images, labels) in enumerate(train_loader):\n",
    "        images = Variable(images.view(-1, 28*28))\n",
    "        labels = Variable(labels)\n",
    "        \n",
    "        # Forward + Backward + Optimize\n",
    "        optimizer.zero_grad()\n",
    "        outputs = model(images)\n",
    "        loss = loss_function(outputs, labels)\n",
    "        loss.backward()\n",
    "        optimizer.step()\n",
    "        \n",
    "        if (i+1) % 100 == 0:\n",
    "            print ('Epoch: [%d/%d], Step: [%d/%d], Loss: %.4f' \n",
    "                   % (epoch+1, num_epochs, i+1, len(train_dataset)//batch_size, loss.data[0]))\n"
   ]
  },
  {
   "cell_type": "markdown",
   "metadata": {
    "deletable": true,
    "editable": true
   },
   "source": [
    "### Test Your Model"
   ]
  },
  {
   "cell_type": "code",
   "execution_count": 7,
   "metadata": {
    "collapsed": false,
    "deletable": true,
    "editable": true
   },
   "outputs": [
    {
     "name": "stdout",
     "output_type": "stream",
     "text": [
      "Accuracy of the model on the 10000 test images: 82 %\n"
     ]
    }
   ],
   "source": [
    "# Test the Model\n",
    "correct = 0\n",
    "total = 0\n",
    "for images, labels in test_loader:\n",
    "    images = Variable(images.view(-1, 28*28))\n",
    "    outputs = model(images)\n",
    "    _, predicted = torch.max(outputs.data, 1)\n",
    "    total += labels.size(0)\n",
    "    correct += (predicted == labels).sum()\n",
    "    \n",
    "print('Accuracy of the model on the 10000 test images: %d %%' % (100 * correct / total))\n",
    "\n",
    "# Save the Model\n",
    "#torch.save(model.state_dict(), 'model.pkl')"
   ]
  },
  {
   "cell_type": "markdown",
   "metadata": {
    "deletable": true,
    "editable": true
   },
   "source": [
    "## Part II: Feedforward Neural Network\n",
    "\n",
    "Please use this template to complete your model. Add your code to all blocks that have #TODO"
   ]
  },
  {
   "cell_type": "code",
   "execution_count": 13,
   "metadata": {
    "collapsed": true,
    "deletable": true,
    "editable": true
   },
   "outputs": [],
   "source": [
    "# Hyper Parameters \n",
    "# TODO: Fill in your code\n",
    "input_size = 784 # how to represent a 28 * 28 matrix?\n",
    "hidden_size = 500 # try {100, 300, 500, 700}, how does hidden size affect the model?\n",
    "num_classes = 10\n",
    "num_epochs = 5\n",
    "batch_size = 100\n",
    "learning_rate = 0.001 # try {1.0, 0.1, 0.01, 0.001, 0.0001} What's the best learning rate? How can we evaluate learning rate?"
   ]
  },
  {
   "cell_type": "code",
   "execution_count": 11,
   "metadata": {
    "collapsed": false,
    "deletable": true,
    "editable": true
   },
   "outputs": [],
   "source": [
    "# Neural Network Model (2 hidden layer)\n",
    "# TODO: Fill in your code\n",
    "class Net(nn.Module):\n",
    "    def __init__(self, input_size, hidden_size, num_classes):\n",
    "        # define your network here \n",
    "        super(Net, self).__init__()\n",
    "        # a relu layer\n",
    "        # a linear layer\n",
    "        self.linear1 = nn.Linear(input_size,hidden_size)\n",
    "        self.relu = nn.ReLU()\n",
    "        self.linear2 = nn.Linear(hidden_size,num_classes)\n",
    "        \n",
    "        \n",
    "    def forward(self, x):\n",
    "        # define your forward function here\n",
    "        x = self.linear1(x)\n",
    "        x = self.relu(x)\n",
    "        out = self.linear2(x)\n",
    "        \n",
    "        return out\n",
    "    \n",
    "net = Net(input_size, hidden_size, num_classes)\n"
   ]
  },
  {
   "cell_type": "code",
   "execution_count": 14,
   "metadata": {
    "collapsed": false,
    "deletable": true,
    "editable": true
   },
   "outputs": [],
   "source": [
    "# Loss and Optimizer\n",
    "# TODO: Fill in your code\n",
    "# construct your loss function\n",
    "loss_function = nn.CrossEntropyLoss()  \n",
    "# choose your optimizer\n",
    "#optimizer = torch.optim.SGD(model.parameters(), lr=learning_rate)  \n",
    "optimizer = torch.optim.Adam(net.parameters(), lr=learning_rate)  "
   ]
  },
  {
   "cell_type": "code",
   "execution_count": 15,
   "metadata": {
    "collapsed": false,
    "deletable": true,
    "editable": true
   },
   "outputs": [
    {
     "name": "stdout",
     "output_type": "stream",
     "text": [
      "Epoch [1/5], Step [100/600], Loss: 0.3594\n",
      "Epoch [1/5], Step [200/600], Loss: 0.1545\n",
      "Epoch [1/5], Step [300/600], Loss: 0.2161\n",
      "Epoch [1/5], Step [400/600], Loss: 0.2040\n",
      "Epoch [1/5], Step [500/600], Loss: 0.1101\n",
      "Epoch [1/5], Step [600/600], Loss: 0.1840\n",
      "Epoch [2/5], Step [100/600], Loss: 0.1822\n",
      "Epoch [2/5], Step [200/600], Loss: 0.1294\n",
      "Epoch [2/5], Step [300/600], Loss: 0.0754\n",
      "Epoch [2/5], Step [400/600], Loss: 0.2527\n",
      "Epoch [2/5], Step [500/600], Loss: 0.1338\n",
      "Epoch [2/5], Step [600/600], Loss: 0.0725\n",
      "Epoch [3/5], Step [100/600], Loss: 0.0822\n",
      "Epoch [3/5], Step [200/600], Loss: 0.0977\n",
      "Epoch [3/5], Step [300/600], Loss: 0.0682\n",
      "Epoch [3/5], Step [400/600], Loss: 0.0792\n",
      "Epoch [3/5], Step [500/600], Loss: 0.0461\n",
      "Epoch [3/5], Step [600/600], Loss: 0.1508\n",
      "Epoch [4/5], Step [100/600], Loss: 0.0653\n",
      "Epoch [4/5], Step [200/600], Loss: 0.0205\n",
      "Epoch [4/5], Step [300/600], Loss: 0.0305\n",
      "Epoch [4/5], Step [400/600], Loss: 0.0323\n",
      "Epoch [4/5], Step [500/600], Loss: 0.0345\n",
      "Epoch [4/5], Step [600/600], Loss: 0.0329\n",
      "Epoch [5/5], Step [100/600], Loss: 0.0309\n",
      "Epoch [5/5], Step [200/600], Loss: 0.0311\n",
      "Epoch [5/5], Step [300/600], Loss: 0.0325\n",
      "Epoch [5/5], Step [400/600], Loss: 0.0879\n",
      "Epoch [5/5], Step [500/600], Loss: 0.0097\n",
      "Epoch [5/5], Step [600/600], Loss: 0.0359\n"
     ]
    }
   ],
   "source": [
    "# Train the Model\n",
    "# TODO: Fill in your code\n",
    "for epoch in range(num_epochs):\n",
    "    for i, (images, labels) in enumerate(train_loader):  \n",
    "        # Convert torch tensor to Variable\n",
    "        images = Variable(images.view(-1, 28*28))\n",
    "        labels = Variable(labels)\n",
    "        \n",
    "        # Forward + Backward + Optimize\n",
    "        optimizer.zero_grad()\n",
    "        outputs = net(images)\n",
    "        loss = loss_function(outputs, labels)\n",
    "        loss.backward()\n",
    "        optimizer.step()\n",
    "        if (i+1) % 100 == 0:\n",
    "            print ('Epoch [%d/%d], Step [%d/%d], Loss: %.4f' \n",
    "                   %(epoch+1, num_epochs, i+1, len(train_dataset)//batch_size, loss.data[0]))\n"
   ]
  },
  {
   "cell_type": "code",
   "execution_count": 16,
   "metadata": {
    "collapsed": false,
    "deletable": true,
    "editable": true
   },
   "outputs": [
    {
     "name": "stdout",
     "output_type": "stream",
     "text": [
      "Accuracy of the network on the 10000 test images: 97 %\n"
     ]
    }
   ],
   "source": [
    "# Test the Model\n",
    "correct = 0\n",
    "total = 0\n",
    "for images, labels in test_loader:\n",
    "    images = Variable(images.view(-1, 28*28))\n",
    "    outputs = net(images)\n",
    "    _, predicted = torch.max(outputs.data, 1)\n",
    "    total += labels.size(0)\n",
    "    correct += (predicted == labels).sum()\n",
    "\n",
    "print('Accuracy of the network on the 10000 test images: %d %%' % (100 * correct / total))\n",
    "\n",
    "# Save the Model\n",
    "#torch.save(net.state_dict(), 'model.pkl')"
   ]
  },
  {
   "cell_type": "markdown",
   "metadata": {
    "deletable": true,
    "editable": true
   },
   "source": [
    "### More questions to think about:\n",
    "- Intuitively, what's the advantage of feed forward neural network over Logistic Regression?\n",
    "- Is there any regularization on the simple feed forward nn model? If no, what are those options for regularization?\n",
    "- Try the L2 regulariztion, does it improve the model performance?\n",
    "- What are the hyper parameters? Which aspect of the model does each of them control?\n",
    "- How to tune these hyper parameters?\n",
    "- Is there any relationship existing among these hyper parameters?\n",
    "- What's the best way to search for the optimized set of hyper parameters?"
   ]
  },
  {
   "cell_type": "markdown",
   "metadata": {
    "collapsed": true,
    "deletable": true,
    "editable": true
   },
   "source": [
    "### Reference\n",
    "\n",
    "Official PyTorch Tutorial, http://pytorch.org/tutorials/beginner/blitz/cifar10_tutorial.html#sphx-glr-beginner-blitz-cifar10-tutorial-py \n",
    "\n",
    "\n",
    "yunjey's github, https://github.com/yunjey/pytorch-tutorial"
   ]
  },
  {
   "cell_type": "code",
   "execution_count": null,
   "metadata": {
    "collapsed": true,
    "deletable": true,
    "editable": true
   },
   "outputs": [],
   "source": []
  }
 ],
 "metadata": {
  "anaconda-cloud": {},
  "kernelspec": {
   "display_name": "Python [Root]",
   "language": "python",
   "name": "Python [Root]"
  },
  "language_info": {
   "codemirror_mode": {
    "name": "ipython",
    "version": 3
   },
   "file_extension": ".py",
   "mimetype": "text/x-python",
   "name": "python",
   "nbconvert_exporter": "python",
   "pygments_lexer": "ipython3",
   "version": "3.5.2"
  }
 },
 "nbformat": 4,
 "nbformat_minor": 1
}
