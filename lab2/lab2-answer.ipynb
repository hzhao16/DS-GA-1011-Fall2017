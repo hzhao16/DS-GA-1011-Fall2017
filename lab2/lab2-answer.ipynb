{
 "cells": [
  {
   "cell_type": "markdown",
   "metadata": {
    "deletable": true,
    "editable": true
   },
   "source": [
    "# DS-GA 1011 Fall 2017 Lab 2\n",
    "# PyTorch Tutorial II: Feed Forward Neural Network on MNIST"
   ]
  },
  {
   "cell_type": "markdown",
   "metadata": {
    "deletable": true,
    "editable": true
   },
   "source": [
    "## Part I: Sample Logistic Regression Model"
   ]
  },
  {
   "cell_type": "code",
   "execution_count": 1,
   "metadata": {
    "collapsed": true,
    "deletable": true,
    "editable": true
   },
   "outputs": [],
   "source": [
    "import torch\n",
    "import torch.nn as nn\n",
    "import torchvision.datasets as dsets\n",
    "import torchvision.transforms as transforms\n",
    "from torch.autograd import Variable\n"
   ]
  },
  {
   "cell_type": "code",
   "execution_count": 2,
   "metadata": {
    "collapsed": true,
    "deletable": true,
    "editable": true
   },
   "outputs": [],
   "source": [
    "# Hyper Parameters \n",
    "input_size = 784\n",
    "num_classes = 10\n",
    "num_epochs = 5\n",
    "batch_size = 100\n",
    "learning_rate = 0.001\n"
   ]
  },
  {
   "cell_type": "markdown",
   "metadata": {
    "deletable": true,
    "editable": true
   },
   "source": [
    "### Load Data"
   ]
  },
  {
   "cell_type": "code",
   "execution_count": 3,
   "metadata": {
    "collapsed": true,
    "deletable": true,
    "editable": true
   },
   "outputs": [],
   "source": [
    "# MNIST Dataset (Images and Labels)\n",
    "train_dataset = dsets.MNIST(root='./data', \n",
    "                            train=True, \n",
    "                            transform=transforms.ToTensor(),\n",
    "                            download=True)\n",
    "\n",
    "test_dataset = dsets.MNIST(root='./data', \n",
    "                           train=False, \n",
    "                           transform=transforms.ToTensor())\n",
    "\n",
    "# Dataset Loader (Input Pipline)\n",
    "train_loader = torch.utils.data.DataLoader(dataset=train_dataset, \n",
    "                                           batch_size=batch_size, \n",
    "                                           shuffle=True)\n",
    "\n",
    "test_loader = torch.utils.data.DataLoader(dataset=test_dataset, \n",
    "                                          batch_size=batch_size, \n",
    "                                          shuffle=False)"
   ]
  },
  {
   "cell_type": "markdown",
   "metadata": {
    "deletable": true,
    "editable": true
   },
   "source": [
    "### Define Model"
   ]
  },
  {
   "cell_type": "code",
   "execution_count": 4,
   "metadata": {
    "collapsed": true,
    "deletable": true,
    "editable": true
   },
   "outputs": [],
   "source": [
    "# Model\n",
    "class LogisticRegression(nn.Module):\n",
    "    def __init__(self, input_size, num_classes):\n",
    "        super(LogisticRegression, self).__init__()\n",
    "        self.linear = nn.Linear(input_size, num_classes)\n",
    "    \n",
    "    def forward(self, x):\n",
    "        out = self.linear(x)\n",
    "        return out\n",
    "\n",
    "model = LogisticRegression(input_size, num_classes)\n"
   ]
  },
  {
   "cell_type": "markdown",
   "metadata": {
    "deletable": true,
    "editable": true
   },
   "source": [
    "### Define a Loss function and optimizer"
   ]
  },
  {
   "cell_type": "code",
   "execution_count": 5,
   "metadata": {
    "collapsed": true,
    "deletable": true,
    "editable": true
   },
   "outputs": [],
   "source": [
    "# Loss and Optimizer\n",
    "# Softmax is internally computed.\n",
    "# Set parameters to be updated.\n",
    "criterion = nn.CrossEntropyLoss()  \n",
    "optimizer = torch.optim.SGD(model.parameters(), lr=learning_rate)  \n"
   ]
  },
  {
   "cell_type": "markdown",
   "metadata": {
    "deletable": true,
    "editable": true
   },
   "source": [
    "### Train Model"
   ]
  },
  {
   "cell_type": "code",
   "execution_count": 6,
   "metadata": {
    "collapsed": false,
    "deletable": true,
    "editable": true
   },
   "outputs": [
    {
     "name": "stdout",
     "output_type": "stream",
     "text": [
      "Epoch: [1/5], Step: [100/600], Loss: 2.2508\n",
      "Epoch: [1/5], Step: [200/600], Loss: 2.1443\n",
      "Epoch: [1/5], Step: [300/600], Loss: 2.0878\n",
      "Epoch: [1/5], Step: [400/600], Loss: 1.9685\n",
      "Epoch: [1/5], Step: [500/600], Loss: 1.8804\n",
      "Epoch: [1/5], Step: [600/600], Loss: 1.8305\n",
      "Epoch: [2/5], Step: [100/600], Loss: 1.8069\n",
      "Epoch: [2/5], Step: [200/600], Loss: 1.6760\n",
      "Epoch: [2/5], Step: [300/600], Loss: 1.6830\n",
      "Epoch: [2/5], Step: [400/600], Loss: 1.5776\n",
      "Epoch: [2/5], Step: [500/600], Loss: 1.5065\n",
      "Epoch: [2/5], Step: [600/600], Loss: 1.5413\n",
      "Epoch: [3/5], Step: [100/600], Loss: 1.4367\n",
      "Epoch: [3/5], Step: [200/600], Loss: 1.4360\n",
      "Epoch: [3/5], Step: [300/600], Loss: 1.2731\n",
      "Epoch: [3/5], Step: [400/600], Loss: 1.2163\n",
      "Epoch: [3/5], Step: [500/600], Loss: 1.2811\n",
      "Epoch: [3/5], Step: [600/600], Loss: 1.3155\n",
      "Epoch: [4/5], Step: [100/600], Loss: 1.1768\n",
      "Epoch: [4/5], Step: [200/600], Loss: 1.2017\n",
      "Epoch: [4/5], Step: [300/600], Loss: 1.2551\n",
      "Epoch: [4/5], Step: [400/600], Loss: 1.2771\n",
      "Epoch: [4/5], Step: [500/600], Loss: 1.1587\n",
      "Epoch: [4/5], Step: [600/600], Loss: 1.1834\n",
      "Epoch: [5/5], Step: [100/600], Loss: 1.1997\n",
      "Epoch: [5/5], Step: [200/600], Loss: 1.0676\n",
      "Epoch: [5/5], Step: [300/600], Loss: 1.0520\n",
      "Epoch: [5/5], Step: [400/600], Loss: 1.0006\n",
      "Epoch: [5/5], Step: [500/600], Loss: 1.0763\n",
      "Epoch: [5/5], Step: [600/600], Loss: 1.0611\n"
     ]
    }
   ],
   "source": [
    "# Training the Model\n",
    "for epoch in range(num_epochs):\n",
    "    for i, (images, labels) in enumerate(train_loader):\n",
    "        images = Variable(images.view(-1, 28*28))\n",
    "        labels = Variable(labels)\n",
    "        \n",
    "        # Forward + Backward + Optimize\n",
    "        optimizer.zero_grad()\n",
    "        outputs = model(images)\n",
    "        loss = criterion(outputs, labels)\n",
    "        loss.backward()\n",
    "        optimizer.step()\n",
    "        \n",
    "        if (i+1) % 100 == 0:\n",
    "            print ('Epoch: [%d/%d], Step: [%d/%d], Loss: %.4f' \n",
    "                   % (epoch+1, num_epochs, i+1, len(train_dataset)//batch_size, loss.data[0]))\n"
   ]
  },
  {
   "cell_type": "markdown",
   "metadata": {
    "deletable": true,
    "editable": true
   },
   "source": [
    "### Test Your Model"
   ]
  },
  {
   "cell_type": "code",
   "execution_count": 7,
   "metadata": {
    "collapsed": false,
    "deletable": true,
    "editable": true
   },
   "outputs": [
    {
     "name": "stdout",
     "output_type": "stream",
     "text": [
      "Accuracy of the model on the 10000 test images: 82 %\n"
     ]
    }
   ],
   "source": [
    "# Test the Model\n",
    "correct = 0\n",
    "total = 0\n",
    "for images, labels in test_loader:\n",
    "    images = Variable(images.view(-1, 28*28))\n",
    "    outputs = model(images)\n",
    "    _, predicted = torch.max(outputs.data, 1)\n",
    "    total += labels.size(0)\n",
    "    correct += (predicted == labels).sum()\n",
    "    \n",
    "print('Accuracy of the model on the 10000 test images: %d %%' % (100 * correct / total))\n",
    "\n",
    "# Save the Model\n",
    "#torch.save(model.state_dict(), 'model.pkl')"
   ]
  },
  {
   "cell_type": "markdown",
   "metadata": {
    "deletable": true,
    "editable": true
   },
   "source": [
    "## Part II: Feedforward Neural Network"
   ]
  },
  {
   "cell_type": "code",
   "execution_count": 8,
   "metadata": {
    "collapsed": true,
    "deletable": true,
    "editable": true
   },
   "outputs": [],
   "source": [
    "# Hyper Parameters \n",
    "input_size = 784\n",
    "hidden_size = 500\n",
    "num_classes = 10\n",
    "num_epochs = 5\n",
    "batch_size = 100\n",
    "learning_rate = 0.001"
   ]
  },
  {
   "cell_type": "code",
   "execution_count": 11,
   "metadata": {
    "collapsed": true,
    "deletable": true,
    "editable": true
   },
   "outputs": [],
   "source": [
    "# Neural Network Model (1 hidden layer)\n",
    "class Net(nn.Module):\n",
    "    def __init__(self, input_size, hidden_size, num_classes):\n",
    "        super(Net, self).__init__()\n",
    "        self.fc1 = nn.Linear(input_size, hidden_size) \n",
    "        self.relu = nn.ReLU()\n",
    "        self.fc2 = nn.Linear(hidden_size, num_classes)  \n",
    "    \n",
    "    def forward(self, x):\n",
    "        out = self.fc1(x)\n",
    "        out = self.relu(out)\n",
    "        out = self.fc2(out)\n",
    "        return out\n",
    "    \n",
    "net = Net(input_size, hidden_size, num_classes)\n"
   ]
  },
  {
   "cell_type": "code",
   "execution_count": 12,
   "metadata": {
    "collapsed": true,
    "deletable": true,
    "editable": true
   },
   "outputs": [],
   "source": [
    "# Loss and Optimizer\n",
    "criterion = nn.CrossEntropyLoss()  \n",
    "optimizer = torch.optim.Adam(net.parameters(), lr=learning_rate)  \n"
   ]
  },
  {
   "cell_type": "code",
   "execution_count": 13,
   "metadata": {
    "collapsed": false,
    "deletable": true,
    "editable": true
   },
   "outputs": [
    {
     "name": "stdout",
     "output_type": "stream",
     "text": [
      "Epoch [1/5], Step [100/600], Loss: 0.3635\n",
      "Epoch [1/5], Step [200/600], Loss: 0.2969\n",
      "Epoch [1/5], Step [300/600], Loss: 0.1284\n",
      "Epoch [1/5], Step [400/600], Loss: 0.2989\n",
      "Epoch [1/5], Step [500/600], Loss: 0.0931\n",
      "Epoch [1/5], Step [600/600], Loss: 0.1312\n",
      "Epoch [2/5], Step [100/600], Loss: 0.1669\n",
      "Epoch [2/5], Step [200/600], Loss: 0.0804\n",
      "Epoch [2/5], Step [300/600], Loss: 0.1155\n",
      "Epoch [2/5], Step [400/600], Loss: 0.0508\n",
      "Epoch [2/5], Step [500/600], Loss: 0.0805\n",
      "Epoch [2/5], Step [600/600], Loss: 0.0655\n",
      "Epoch [3/5], Step [100/600], Loss: 0.1704\n",
      "Epoch [3/5], Step [200/600], Loss: 0.0745\n",
      "Epoch [3/5], Step [300/600], Loss: 0.0971\n",
      "Epoch [3/5], Step [400/600], Loss: 0.0572\n",
      "Epoch [3/5], Step [500/600], Loss: 0.0742\n",
      "Epoch [3/5], Step [600/600], Loss: 0.0919\n",
      "Epoch [4/5], Step [100/600], Loss: 0.0804\n",
      "Epoch [4/5], Step [200/600], Loss: 0.0689\n",
      "Epoch [4/5], Step [300/600], Loss: 0.0195\n",
      "Epoch [4/5], Step [400/600], Loss: 0.0739\n",
      "Epoch [4/5], Step [500/600], Loss: 0.0751\n",
      "Epoch [4/5], Step [600/600], Loss: 0.0715\n",
      "Epoch [5/5], Step [100/600], Loss: 0.0393\n",
      "Epoch [5/5], Step [200/600], Loss: 0.0210\n",
      "Epoch [5/5], Step [300/600], Loss: 0.0211\n",
      "Epoch [5/5], Step [400/600], Loss: 0.0191\n",
      "Epoch [5/5], Step [500/600], Loss: 0.0133\n",
      "Epoch [5/5], Step [600/600], Loss: 0.0625\n"
     ]
    }
   ],
   "source": [
    "# Train the Model\n",
    "for epoch in range(num_epochs):\n",
    "    for i, (images, labels) in enumerate(train_loader):  \n",
    "        # Convert torch tensor to Variable\n",
    "        images = Variable(images.view(-1, 28*28))\n",
    "        labels = Variable(labels)\n",
    "        \n",
    "        # Forward + Backward + Optimize\n",
    "        optimizer.zero_grad()  # zero the gradient buffer\n",
    "        outputs = net(images)\n",
    "        loss = criterion(outputs, labels)\n",
    "        loss.backward()\n",
    "        optimizer.step()\n",
    "        \n",
    "        if (i+1) % 100 == 0:\n",
    "            print ('Epoch [%d/%d], Step [%d/%d], Loss: %.4f' \n",
    "                   %(epoch+1, num_epochs, i+1, len(train_dataset)//batch_size, loss.data[0]))\n"
   ]
  },
  {
   "cell_type": "code",
   "execution_count": 14,
   "metadata": {
    "collapsed": false,
    "deletable": true,
    "editable": true
   },
   "outputs": [
    {
     "name": "stdout",
     "output_type": "stream",
     "text": [
      "Accuracy of the network on the 10000 test images: 97 %\n"
     ]
    }
   ],
   "source": [
    "# Test the Model\n",
    "correct = 0\n",
    "total = 0\n",
    "for images, labels in test_loader:\n",
    "    images = Variable(images.view(-1, 28*28))\n",
    "    outputs = net(images)\n",
    "    _, predicted = torch.max(outputs.data, 1)\n",
    "    total += labels.size(0)\n",
    "    correct += (predicted == labels).sum()\n",
    "\n",
    "print('Accuracy of the network on the 10000 test images: %d %%' % (100 * correct / total))\n",
    "\n",
    "# Save the Model\n",
    "#torch.save(net.state_dict(), 'model.pkl')"
   ]
  },
  {
   "cell_type": "markdown",
   "metadata": {
    "deletable": true,
    "editable": true
   },
   "source": [
    "### More questions to think about:\n",
    "- Intuitively, what's the advantage of feed forward neural network over Logistic Regression?\n",
    "- Is there any regularization on the simple feed forward nn model? If no, what are those options for regularization?\n",
    "- Try the L2 regulariztion, does it improve the model performance?\n",
    "- What are the hyper parameters? Which aspect of the model does each of them control?\n",
    "- How to tune these hyper parameters?\n",
    "- Is there any relationship existing among these hyper parameters?\n",
    "- What's the best way to search for the optimized set of hyper parameters?"
   ]
  },
  {
   "cell_type": "markdown",
   "metadata": {
    "deletable": true,
    "editable": true
   },
   "source": [
    "### Reference\n",
    "\n",
    "Official PyTorch Tutorial, http://pytorch.org/tutorials/beginner/blitz/cifar10_tutorial.html#sphx-glr-beginner-blitz-cifar10-tutorial-py \n",
    "\n",
    "\n",
    "yunjey's github, https://github.com/yunjey/pytorch-tutorial"
   ]
  },
  {
   "cell_type": "code",
   "execution_count": null,
   "metadata": {
    "collapsed": true,
    "deletable": true,
    "editable": true
   },
   "outputs": [],
   "source": []
  }
 ],
 "metadata": {
  "anaconda-cloud": {},
  "kernelspec": {
   "display_name": "Python [Root]",
   "language": "python",
   "name": "Python [Root]"
  },
  "language_info": {
   "codemirror_mode": {
    "name": "ipython",
    "version": 3
   },
   "file_extension": ".py",
   "mimetype": "text/x-python",
   "name": "python",
   "nbconvert_exporter": "python",
   "pygments_lexer": "ipython3",
   "version": "3.5.2"
  }
 },
 "nbformat": 4,
 "nbformat_minor": 1
}
